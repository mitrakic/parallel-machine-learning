{
 "cells": [
  {
   "cell_type": "code",
   "execution_count": 1,
   "metadata": {},
   "outputs": [],
   "source": [
    "import pandas as pd\n",
    "from sklearn import preprocessing"
   ]
  },
  {
   "cell_type": "code",
   "execution_count": 19,
   "metadata": {},
   "outputs": [
    {
     "name": "stdout",
     "output_type": "stream",
     "text": [
      "Int64Index([0, 1, 2, 3, 4, 5, 6, 7, 8, 9, 10, 11], dtype='int64')\n"
     ]
    }
   ],
   "source": [
    "def standardize_data(input_file, output_file)\n",
    "    df = pd.read_csv(\"winedata_training copy.csv\", header=None)\n",
    "    scaler = preprocessing.StandardScaler()\n",
    "    scaled_df = scaler.fit_transform(df.drop(11, axis=1))\n",
    "    scaled_df = pd.DataFrame(scaled_df)\n",
    "    scaled_df[11] = df[11]\n",
    "    scaled_df.to_csv(\"winedata_training_standardized.csv\", index=False, header=False)"
   ]
  },
  {
   "cell_type": "code",
   "execution_count": null,
   "metadata": {},
   "outputs": [],
   "source": [
    "standardize_data(\"winedata_training copy.csv\", \"winedata_training_standardized.csv\")\n",
    "standardize_data(\"winedata_test copy.csv\", \"winedata_test_standardized.csv\")"
   ]
  }
 ],
 "metadata": {
  "kernelspec": {
   "display_name": "Python 3",
   "language": "python",
   "name": "python3"
  },
  "language_info": {
   "codemirror_mode": {
    "name": "ipython",
    "version": 3
   },
   "file_extension": ".py",
   "mimetype": "text/x-python",
   "name": "python",
   "nbconvert_exporter": "python",
   "pygments_lexer": "ipython3",
   "version": "3.6.6"
  }
 },
 "nbformat": 4,
 "nbformat_minor": 2
}
